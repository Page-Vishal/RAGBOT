{
  "cells": [
    {
      "cell_type": "code",
      "execution_count": 49,
      "metadata": {
        "id": "C5qV-FvMMi9o"
      },
      "outputs": [],
      "source": [
        "!pip install -q pypdf langchain langchain_community langchain_huggingface transformers torch"
      ]
    },
    {
      "cell_type": "code",
      "execution_count": 50,
      "metadata": {
        "id": "mElpBnjpOnxY"
      },
      "outputs": [],
      "source": [
        "!pip install -q faiss-cpu"
      ]
    },
    {
      "cell_type": "markdown",
      "metadata": {
        "id": "Lk64s4EWmgGr"
      },
      "source": [
        "A chatbot that uses HuggingFaceHUB"
      ]
    },
    {
      "cell_type": "code",
      "execution_count": 74,
      "metadata": {
        "id": "zxPecW4YmcG7"
      },
      "outputs": [],
      "source": [
        "from langchain_community.document_loaders import PyPDFLoader\n",
        "from langchain.text_splitter import CharacterTextSplitter\n",
        "from langchain_huggingface import HuggingFaceEmbeddings\n",
        "from langchain_community.vectorstores import FAISS\n",
        "\n",
        "from langchain_huggingface import HuggingFacePipeline\n",
        "from transformers import pipeline, AutoTokenizer\n",
        "\n",
        "from langchain.chains import RetrievalQA\n"
      ]
    },
    {
      "cell_type": "code",
      "execution_count": 52,
      "metadata": {
        "id": "hgSIy8RQN4fp"
      },
      "outputs": [],
      "source": [
        "HUGGING_FACE_HUB_API_KEY = \"HUGGING_FACE_HUB_API_KEY\""
      ]
    },
    {
      "cell_type": "code",
      "execution_count": 53,
      "metadata": {
        "id": "DOpPh9vnNKBo"
      },
      "outputs": [],
      "source": [
        "pdf_path = '/content/Knowledge Base.pdf'"
      ]
    },
    {
      "cell_type": "code",
      "execution_count": 54,
      "metadata": {
        "id": "ypPlfXi5NB_9"
      },
      "outputs": [],
      "source": [
        "loader = PyPDFLoader(pdf_path)\n",
        "document = loader.load()"
      ]
    },
    {
      "cell_type": "code",
      "execution_count": 55,
      "metadata": {
        "id": "k6sDo4ugNORJ"
      },
      "outputs": [],
      "source": [
        "text_splitter = CharacterTextSplitter(chunk_size=1000, chunk_overlap=200)\n",
        "docs = text_splitter.split_documents(document)"
      ]
    },
    {
      "cell_type": "code",
      "execution_count": 56,
      "metadata": {
        "id": "E-olX0r_NUa8"
      },
      "outputs": [],
      "source": [
        "embeddings = HuggingFaceEmbeddings(model_name = \"sentence-transformers/all-MiniLM-L6-v2\")"
      ]
    },
    {
      "cell_type": "code",
      "execution_count": 57,
      "metadata": {
        "id": "KBcXvn-7NYxG"
      },
      "outputs": [],
      "source": [
        "vectorstore = FAISS.from_documents(docs, embeddings)"
      ]
    },
    {
      "cell_type": "code",
      "execution_count": 70,
      "metadata": {
        "colab": {
          "base_uri": "https://localhost:8080/"
        },
        "id": "75G_oicURWrm",
        "outputId": "19d09a29-3a96-4ce5-a129-7d7a1b4e0f54"
      },
      "outputs": [
        {
          "name": "stderr",
          "output_type": "stream",
          "text": [
            "Device set to use cpu\n",
            "The model 'T5ForConditionalGeneration' is not supported for text-generation. Supported models are ['BartForCausalLM', 'BertLMHeadModel', 'BertGenerationDecoder', 'BigBirdForCausalLM', 'BigBirdPegasusForCausalLM', 'BioGptForCausalLM', 'BlenderbotForCausalLM', 'BlenderbotSmallForCausalLM', 'BloomForCausalLM', 'CamembertForCausalLM', 'LlamaForCausalLM', 'CodeGenForCausalLM', 'CohereForCausalLM', 'CpmAntForCausalLM', 'CTRLLMHeadModel', 'Data2VecTextForCausalLM', 'DbrxForCausalLM', 'ElectraForCausalLM', 'ErnieForCausalLM', 'FalconForCausalLM', 'FalconMambaForCausalLM', 'FuyuForCausalLM', 'GemmaForCausalLM', 'Gemma2ForCausalLM', 'GitForCausalLM', 'GlmForCausalLM', 'GPT2LMHeadModel', 'GPT2LMHeadModel', 'GPTBigCodeForCausalLM', 'GPTNeoForCausalLM', 'GPTNeoXForCausalLM', 'GPTNeoXJapaneseForCausalLM', 'GPTJForCausalLM', 'GraniteForCausalLM', 'GraniteMoeForCausalLM', 'JambaForCausalLM', 'JetMoeForCausalLM', 'LlamaForCausalLM', 'MambaForCausalLM', 'Mamba2ForCausalLM', 'MarianForCausalLM', 'MBartForCausalLM', 'MegaForCausalLM', 'MegatronBertForCausalLM', 'MistralForCausalLM', 'MixtralForCausalLM', 'MllamaForCausalLM', 'MoshiForCausalLM', 'MptForCausalLM', 'MusicgenForCausalLM', 'MusicgenMelodyForCausalLM', 'MvpForCausalLM', 'NemotronForCausalLM', 'OlmoForCausalLM', 'Olmo2ForCausalLM', 'OlmoeForCausalLM', 'OpenLlamaForCausalLM', 'OpenAIGPTLMHeadModel', 'OPTForCausalLM', 'PegasusForCausalLM', 'PersimmonForCausalLM', 'PhiForCausalLM', 'Phi3ForCausalLM', 'PhimoeForCausalLM', 'PLBartForCausalLM', 'ProphetNetForCausalLM', 'QDQBertLMHeadModel', 'Qwen2ForCausalLM', 'Qwen2MoeForCausalLM', 'RecurrentGemmaForCausalLM', 'ReformerModelWithLMHead', 'RemBertForCausalLM', 'RobertaForCausalLM', 'RobertaPreLayerNormForCausalLM', 'RoCBertForCausalLM', 'RoFormerForCausalLM', 'RwkvForCausalLM', 'Speech2Text2ForCausalLM', 'StableLmForCausalLM', 'Starcoder2ForCausalLM', 'TransfoXLLMHeadModel', 'TrOCRForCausalLM', 'WhisperForCausalLM', 'XGLMForCausalLM', 'XLMWithLMHeadModel', 'XLMProphetNetForCausalLM', 'XLMRobertaForCausalLM', 'XLMRobertaXLForCausalLM', 'XLNetLMHeadModel', 'XmodForCausalLM', 'ZambaForCausalLM'].\n"
          ]
        }
      ],
      "source": [
        "model = \"google/flan-t5-small\"\n",
        "tokenizer = AutoTokenizer.from_pretrained(model)\n",
        "\n",
        "generator = pipeline(\n",
        "    \"text-generation\",\n",
        "    model=model,\n",
        "    tokenizer=tokenizer,\n",
        "    max_new_tokens=50,\n",
        "    truncation=True,\n",
        "    temperature=0.4)\n",
        "\n",
        "local_llm = HuggingFacePipeline(pipeline=generator)"
      ]
    },
    {
      "cell_type": "code",
      "execution_count": 71,
      "metadata": {
        "id": "diHf7ulqM4Wq"
      },
      "outputs": [],
      "source": [
        "qa_chain = RetrievalQA.from_chain_type(\n",
        "    llm=local_llm,\n",
        "    chain_type=\"stuff\",\n",
        "    retriever=vectorstore.as_retriever()\n",
        ")"
      ]
    },
    {
      "cell_type": "code",
      "execution_count": 16,
      "metadata": {
        "colab": {
          "base_uri": "https://localhost:8080/"
        },
        "id": "3kWN2UlRNvK6",
        "outputId": "0adcca7d-d7f7-43e7-a99a-ae9ad9e577e1"
      },
      "outputs": [
        {
          "name": "stdout",
          "output_type": "stream",
          "text": [
            "Ask your Question: What is canker\n"
          ]
        }
      ],
      "source": [
        "user_input = input(\"Ask your Question: \")"
      ]
    },
    {
      "cell_type": "code",
      "execution_count": 72,
      "metadata": {
        "colab": {
          "base_uri": "https://localhost:8080/"
        },
        "id": "6MIbUsBANnGF",
        "outputId": "31c3a939-17d0-4812-856c-bcb3a58a1cdf"
      },
      "outputs": [
        {
          "name": "stderr",
          "output_type": "stream",
          "text": [
            "/usr/local/lib/python3.11/dist-packages/transformers/generation/configuration_utils.py:628: UserWarning: `do_sample` is set to `False`. However, `temperature` is set to `0.4` -- this flag is only used in sample-based generation modes. You should set `do_sample=True` or unset `temperature`.\n",
            "  warnings.warn(\n"
          ]
        },
        {
          "name": "stdout",
          "output_type": "stream",
          "text": [
            "Use the following pieces of context to answer the question at the end. If you don't know the answer, just say that you don't know, don't try to make up an answer.\n",
            "\n",
            "The disease leaves fruit speckled and lesioned but does not affect the internal quality of the infected \n",
            "fruit. It can lead to blemishes, premature fruit drop, and lower fruit quality, affecting both the yield \n",
            "and market value. \n",
            "2. Citrus Canker \n",
            "This is a bacterial disease. It appears as brownish -yellow spots on the leaves, stems, and fruits. \n",
            "When spots form on the fruits, the quality of the fruit deteriorates. This disease starts spreading \n",
            "before the rainy season and spreads rapidly during it. The disease can be transmitted by leaf-miner \n",
            "insects, which carry the bacteria into the plant through wounds or damage caused by insects or \n",
            "other factors. Additionally, the disease can spread through pruning tools as well. \n",
            "Symptoms: \n",
            "Disease begins as small pimple-like spots that are about 1 mm in diameter and yellow in color. As \n",
            "the spots enlarge, they become brown and corky with sunken centers and raised edges. Often each \n",
            "of these spots have a yellow ring surrounding them.  [https://agriculture.vic.gov.au/biosecurity/plant-\n",
            "diseases/fruit-and-nut-diseases/citrus-canker#:~:text=Symptoms%20of%20citrus%20canker,-\n",
            "Figure%201%3A%20Fruit&text=Disease%20begins%20as%20small%20pimple,a%20yellow%20ring%20surround\n",
            "ing%20them.] \n",
            "Transmission: \n",
            "This disease starts spreading before the rainy season and spreads rapidly during it. The disease can \n",
            "be transmitted by leaf -miner insects, which carry the bacteria into the plant through wounds or \n",
            "damage caused by insects or other factors. Additionally, th e disease can spread through pruning \n",
            "tools as well. \n",
            "Prevention (Management practices): \n",
            "- Obtain plants from a nursery free from disease; avoid plants from low-altitude areas. \n",
            "- Prune and remove infected parts, and apply pesticide to the remaining healthy sections. \n",
            "- During December–January, spray a 1% Bordeaux mixture or Copper Oxychloride at 2 -3 \n",
            "grams per liter of water. \n",
            "Treatment \n",
            "- During December–January, spray a 1% Bordeaux mixture or Copper Oxychloride at 2 -3 \n",
            "grams per liter of water. \n",
            "- Mix 1 gram of Streptomycin Sulfate + Tetracycline Hydrochloride in 3 -5 liters of water \n",
            "and spray, or  \n",
            "- Mix 2 ml of Kasugamycin (Kas-B) per liter of water and spray. \n",
            " \n",
            "3. Huanglongbing (HLB / Citrus Greening Disease): \n",
            "Early signs \n",
            "Asian citrus psyllid\n",
            "\n",
            "4. Citrus Sooty Mold: \n",
            "Identification \n",
            "This disease spreads over the leaves, branches, and fruits of the plant, partially or completely \n",
            "covering them with a black layer. Since it is lightly attached, it can be scraped off by hand. By \n",
            "obstructing light absorption, it weakens the plant's health. The shoots and branches of the affected \n",
            "plant start to wither. The size of the affected fruits is also slightly smaller. \n",
            "Primary hosts: \n",
            "This disease is caused by pests like whiteflies and aphids. \n",
            "Removal Methods: \n",
            "The fungus is lightly attached, it can be scraped off by hand. Moreover, To remove the fungus from \n",
            "infected plants, mix 2 grams of Mancozeb (Dithane-45) per liter of water and spray. \n",
            "Preventive Measures of Citrus Sooty Mold: \n",
            "• This disease is caused by pests like whiteflies and aphids. To control these insects, use \n",
            "Dimethoate (Rogar) ( डाईमेथोएट (रोगर) कीटनाशक) pesticide at 1 –1.5 ml per liter of water or \n",
            "mix 5-7 ml of neem oil per liter of water and spray. \n",
            "• Regular pruning, keeping the garden clean, and maintaining proper spacing reduce the \n",
            "chances of pest infestations, thereby decreasing the likelihood of this disease. \n",
            "• Aphid populations tend to increase significantly from mid -May to August, which is \n",
            "also when this disease commonly appears. Therefore, regular inspection of the garden \n",
            "during this period is essential. \n",
            "5. Citrus Scab \n",
            "Symptoms and Carrier: \n",
            "This disease is caused by mold named Elsinoe fawcetti. It has more effect on leaves and fruits. As \n",
            "its infestation increases, it spreads to the fruit. It damages most fruits. After being attacked by this \n",
            "disease, scabs with raised blisters appear on the pe el of the fruit. Although this disease does not \n",
            "affect the plant immediately, it has a direct effect on the market price of the fruit. \n",
            "Preventive Measures of Citrus Scab: \n",
            "- Do not plant the crops produced in the diseased area and do not sell and distribute them \n",
            "elsewhere. \n",
            "- Regularly spray 1 percent Bordeaux mixture 3 times a year in Poush-Magh,Baishak-Jestha \n",
            "and Bhadra-Ashoj. In addition, spray 1 gram benomyl or carbendazim mixed with water. \n",
            "Healthy Plants: \n",
            "Visual Indicators\n",
            "\n",
            "• Use Servo Agro Spray (10 ml per liter of water) to manage cutworms and leaf -mining \n",
            "insects. \n",
            "• Keep the garden clean and tidy. \n",
            "• Ensure proper drainage if there is water accumulation. \n",
            "• If borer damage is observed, place a cotton ball soaked in petrol or kerosene in the borehole \n",
            "and seal it. \n",
            "• Support branches as necessary to prevent breakage. \n",
            "• Apply Bordeaux paste and spray Bevishtin (2 ml per liter of water). Spray sulfur (2 grams \n",
            "per liter of water) to control fungal issues. \n",
            "• During the rainy season, manage high temperatures and humidity, which may lead to scab \n",
            "disease, rot, and root rot. Apply Bordeaux mixture as needed and maintain garden \n",
            "cleanliness. \n",
            " \n",
            "Bhadra-Kartik-Mangsir (Maturity Phase) \n",
            "• Spray Rogar or Malathion (2 ml per liter of water) to manage pests. \n",
            "• Use pheromone traps (methyl eugenol) for insect monitoring. \n",
            "• Apply mulch (such as straw, wood dust, or dry leaves) around the plants to retain moisture \n",
            "and manage temperature changes. \n",
            " \n",
            "Harvesting: \n",
            "- Use pruning scissors for double clipping when harvesting fruits, keeping the button (head) on the \n",
            "fruit to prevent disease. \n",
            "- Avoid bruising or rind wounds to ensure quality, especially for export or fresh sale. \n",
            "- Use bags for harvesting to prevent fruits from falling to the ground; gently transfer fruits from \n",
            "bags to crates. \n",
            "- Keep harvested fruits off the soil and always under shade to preserve vitamins and prevent \n",
            "spoilage. \n",
            "- For processing, place fruits on tarpaulin or cut vegetation to avoid soil contact. \n",
            " \n",
            " \n",
            "Post Harvesting \n",
            "- Sorting of Fruits: Sorting involves removing debris (like leaves and twigs) and any \n",
            "damaged, bruised, immature, or spoiled fruits. This process helps prevent fruit deterioration \n",
            "and reduces transportation costs. During sorting, fruits are inspected, and un ripe, \n",
            "undersized, damaged, or decayed ones are discarded.\n",
            "\n",
            "The healthy plants have following characteristics: \n",
            "• Fast Growth \n",
            "• Healthy roots \n",
            "• Healthy leaves characteristics \n",
            "• Blooming \n",
            "• No pests \n",
            "Routine care tips (Seasonal care tips): \n",
            "These activities should be implemented throughout the year to ensure the health and productivity \n",
            "of orange trees: \n",
            "Poush-Magh (Flowering and Vegetative Growth Period) \n",
            "• Remove weeds and other unnecessary plants. \n",
            "• Prune dead, diseased, and damaged branches, as well as any parasitic plants. Apply \n",
            "Bordeaux paste to cut areas immediately after pruning. \n",
            "• Soil Preparation and Fertilization: \n",
            "o Create a ring-shaped basin around the plant. \n",
            "o Add 30 kg of compost or manure, 450 g  of urea, 250 g of DAP, 350 g of potash, \n",
            "and 100 g of agricultural lime to the basin. \n",
            "o Apply half the urea and other fertilizers (around 325 grams) now; reserve the \n",
            "remaining half of the urea for application in Jestha. \n",
            "o Cover the fertilizer with soil and irrigate thoroughly. \n",
            " \n",
            "Baisakh-Jestha (Fruit Development Stage) \n",
            "• Prepare and spray a mixture of zinc sulfate, copper sulfate, magnesium sulfate, and ferrous \n",
            "sulfate. \n",
            "• Apply Bordeaux paste to areas affected by gummosis. \n",
            "• At the banana-seed stage of fruit development, spray a 1% Bordeaux mixture in Baisakh, \n",
            "and repeat after 40 days. \n",
            "• For plants affected by foot rot and root rot, mix Ridomil M -72 at a rate of 2.75 grams per \n",
            "liter of water and drench around the basin. \n",
            "• If soil pH is below 4.5–5, apply 200 grams of dolomite lime per plant every 3 years. \n",
            "• Use pesticide traps and protein baits to control fruit rot. \n",
            " \n",
            "Ashah-Shrawan (Intensive Vegetative Growth and Secondary Growth Phase) \n",
            " \n",
            "• Spray Rogar or Malathion (2 ml per liter of water) to control pests like Patero and Lahi.\n",
            "\n",
            "Question: What is Canker\n",
            "Helpful Answer:\n"
          ]
        }
      ],
      "source": [
        "response = qa_chain.invoke(user_input)\n",
        "print(response['result'])"
      ]
    },
    {
      "cell_type": "code",
      "execution_count": null,
      "metadata": {
        "id": "qFWsaERqchx1"
      },
      "outputs": [],
      "source": []
    }
  ],
  "metadata": {
    "colab": {
      "provenance": []
    },
    "kernelspec": {
      "display_name": "Python 3",
      "name": "python3"
    },
    "language_info": {
      "name": "python"
    }
  },
  "nbformat": 4,
  "nbformat_minor": 0
}
